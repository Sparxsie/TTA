{
 "metadata": {
  "language_info": {
   "codemirror_mode": {
    "name": "ipython",
    "version": 3
   },
   "file_extension": ".py",
   "mimetype": "text/x-python",
   "name": "python",
   "nbconvert_exporter": "python",
   "pygments_lexer": "ipython3",
   "version": "3.8.5"
  },
  "orig_nbformat": 2,
  "kernelspec": {
   "name": "python385jvsc74a57bd07738e4eeb1cb62b1be0c807fe3947e4907fccc4e62a254d7f50cd05df81a3e2b",
   "display_name": "Python 3.8.5 32-bit"
  },
  "metadata": {
   "interpreter": {
    "hash": "7738e4eeb1cb62b1be0c807fe3947e4907fccc4e62a254d7f50cd05df81a3e2b"
   }
  }
 },
 "nbformat": 4,
 "nbformat_minor": 2,
 "cells": [
  {
   "cell_type": "code",
   "execution_count": null,
   "metadata": {},
   "outputs": [],
   "source": [
    "# task 1 \n",
    "import random\n",
    "secretNumber = random.randint(1,10)\n",
    "\n",
    "userName = input(\"Hi, what's your name?\")\n",
    "\n",
    "userGuess = input(\"Hey \" + userName + \", guess a number between 1 and 10...\")\n",
    "\n",
    "if int(userGuess) == secretNumber:\n",
    "    print (\"Wow - you guessed it right\")\n",
    "\n",
    "elif int(userGuess) < 1 or int(userGuess) > 10:\n",
    "    print (userName + \", you needed to enter a number between 1 and 10, not \" + userGuess + \"!\")\n",
    "    \n",
    "else:\n",
    "    print (\"No, it was \" + str(secretNumber))\n",
    "\n",
    "\n",
    "\n",
    "\n",
    "\n",
    "\n",
    "\n",
    "\n",
    "\n"
   ]
  },
  {
   "cell_type": "code",
   "execution_count": null,
   "metadata": {},
   "outputs": [],
   "source": [
    "#task 2\n",
    "jokeList = [\"I finally decided to sell my vacuum cleaner. All it was doing was gathering dust\",\"Though I enjoy the sport, I could never date a tennis player. Love means nothing to them.\",\"What do you call a woman who sets fire to all her bills? Bernadette\"]\n",
    "\n",
    "yourFaveNumber = int(input(\"Hi, what's your favourite number?\"))\n",
    "\n",
    "print(jokeList[yourFaveNumber % 3])\n",
    "\n"
   ]
  },
  {
   "cell_type": "code",
   "execution_count": null,
   "metadata": {},
   "outputs": [],
   "source": [
    "#task 3\n",
    "faveStarter = input(\"What's your favourite starter?\")\n",
    "faveMain = input(\"What's your favourite main?\")\n",
    "faveDessert = input(\"What's your favourite dessert?\")\n",
    "faveDrink = input(\"What's your favourite drink?\")\n",
    "\n",
    "print (\"Your favourite meal is \" + faveStarter + \", \" + faveMain + \" and \" + faveDessert + \", with a glass of \" + faveDrink)\n"
   ]
  },
  {
   "cell_type": "code",
   "execution_count": 32,
   "metadata": {},
   "outputs": [
    {
     "output_type": "stream",
     "name": "stdout",
     "text": [
      "11.200000000000001\n"
     ]
    }
   ],
   "source": [
    "#task 5\n",
    "x = float(input(\"enter a number\"))\n",
    "y = float(input(\"enter another one..\"))\n",
    "\n",
    "choice = int(input(\"Choose your operation:\\n1: Add\\n2: Subtract\\n3: Multiply\\n4: Divide\\n5:Power\\n\"))\n",
    "\n",
    "#choice = int(input())\n",
    "\n",
    "if choice == 1:\n",
    "    print (x + y)\n",
    "elif choice == 2:\n",
    "    print (x  - y)\n",
    "elif choice == 3:\n",
    "    print (x * y)\n",
    "elif choice == 4:\n",
    "    print (x / y)\n",
    "elif choice == 5:\n",
    "    print (x ** y)\n",
    "else:\n",
    "    print (\"Invalid choice \" + choice)"
   ]
  },
  {
   "cell_type": "code",
   "execution_count": 27,
   "metadata": {},
   "outputs": [
    {
     "output_type": "stream",
     "name": "stdout",
     "text": [
      "Year: 2021 Price: 2000.0\nYear: 2022 Price: 1800.0\nYear: 2023 Price: 1620.0\nYear: 2024 Price: 1458.0\nYear: 2025 Price: 1312.2\nYear: 2026 Price: 1180.98\nYear: 2027 Price: 1062.882\n"
     ]
    }
   ],
   "source": [
    "#task 4\n",
    "year = 2021\n",
    "mbPrice = 2000.0\n",
    "\n",
    "while mbPrice > 1000.0:\n",
    "    print (\"Year: \" + str(year) + \" Price: \" + str(mbPrice))\n",
    "    mbPrice *= .9\n",
    "    year += 1"
   ]
  },
  {
   "cell_type": "code",
   "execution_count": null,
   "metadata": {},
   "outputs": [],
   "source": []
  }
 ]
}