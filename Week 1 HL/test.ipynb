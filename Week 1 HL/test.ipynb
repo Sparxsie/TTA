{
 "metadata": {
  "language_info": {
   "codemirror_mode": {
    "name": "ipython",
    "version": 3
   },
   "file_extension": ".py",
   "mimetype": "text/x-python",
   "name": "python",
   "nbconvert_exporter": "python",
   "pygments_lexer": "ipython3",
   "version": "3.8.5"
  },
  "orig_nbformat": 2,
  "kernelspec": {
   "name": "python385jvsc74a57bd07738e4eeb1cb62b1be0c807fe3947e4907fccc4e62a254d7f50cd05df81a3e2b",
   "display_name": "Python 3.8.5 32-bit"
  },
  "metadata": {
   "interpreter": {
    "hash": "7738e4eeb1cb62b1be0c807fe3947e4907fccc4e62a254d7f50cd05df81a3e2b"
   }
  }
 },
 "nbformat": 4,
 "nbformat_minor": 2,
 "cells": [
  {
   "cell_type": "code",
   "execution_count": 1,
   "metadata": {},
   "outputs": [
    {
     "output_type": "stream",
     "name": "stdout",
     "text": [
      "boo\n"
     ]
    }
   ],
   "source": [
    "print (\"boo\")"
   ]
  }
 ]
}