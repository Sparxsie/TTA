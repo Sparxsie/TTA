{
 "metadata": {
  "language_info": {
   "codemirror_mode": {
    "name": "ipython",
    "version": 3
   },
   "file_extension": ".py",
   "mimetype": "text/x-python",
   "name": "python",
   "nbconvert_exporter": "python",
   "pygments_lexer": "ipython3",
   "version": "3.8.5"
  },
  "orig_nbformat": 2,
  "kernelspec": {
   "name": "python385jvsc74a57bd07738e4eeb1cb62b1be0c807fe3947e4907fccc4e62a254d7f50cd05df81a3e2b",
   "display_name": "Python 3.8.5 32-bit"
  },
  "metadata": {
   "interpreter": {
    "hash": "7738e4eeb1cb62b1be0c807fe3947e4907fccc4e62a254d7f50cd05df81a3e2b"
   }
  }
 },
 "nbformat": 4,
 "nbformat_minor": 2,
 "cells": [
  {
   "cell_type": "code",
   "execution_count": null,
   "metadata": {},
   "outputs": [],
   "source": [
    "# proc to print out the menu for a given type of order\n",
    "def displayMenu (orderType, menu):\n",
    "  \n",
    "    # print out the header\n",
    "    print (\"\\n===========================================================\\n\")\n",
    "    print (orderType + \"\\t\\t\\tPrice\\tVeggie\\tGF\")       \n",
    "    print (\"\\n===========================================================\\n\")\n",
    "    \n",
    "    # for each item print out the item\n",
    "    i = 1\n",
    "    for item in menu:\n",
    "        print(str(i) + \": \" + item[\"Name\"]+ \"\\t\" + item[\"Price\"] + \"\\t\"+ item[\"Veggie\"] + \"\\t\" + item[\"Gluten Free\"])\n",
    "        i += 1\n",
    "    print (\"\\n===========================================================\\n\")\n",
    "   \n",
    "# function to get orders from the menu for a given type of order\n",
    "def getOrders(orderType, menu):\n",
    "    \n",
    "    subMenu = menu[orderType] #  menu of items for this type of order, e.g. all mains\n",
    "    orderList = [] # list of orders of this sub menu\n",
    "\n",
    "    # print the sub menu\n",
    "    displayMenu(orderType, subMenu)\n",
    "   \n",
    "    # get next order until user selects done\n",
    "    nextItemNumber = 1 \n",
    "    while str(nextItemNumber) != \"Done\": \n",
    "        nextItemNumber = input (\"Select a \" + orderType + \" item or enter \\'Done\\'\")\n",
    "\n",
    "        # loop back if invalid entries\n",
    "        try:\n",
    "         if int(nextItemNumber) < 1 or int(nextItemNumber) > len(subMenu):\n",
    "            continue\n",
    "        except:\n",
    "            continue\n",
    "\n",
    "        # add item to order\n",
    "        orderList.append(subMenu[int(nextItemNumber)-1])\n",
    "\n",
    "    # return order list for this order type to main \n",
    "    return orderList\n",
    "\n",
    "# MAIN \n",
    "import json\n",
    "\n",
    "# open and load json menu into python dictionary\n",
    "file = open(\"./menu.json\")\n",
    "menu = json.load(file)\n",
    "\n",
    "#set up list to add orders\n",
    "#prompt for order\n",
    "input (\"Welcome... Press enter to continue and Place your order\\n\")\n",
    "\n",
    "orderList = []\n",
    "\n",
    "# get orders for each type and items entered to a list\n",
    "orderList.extend(getOrders(\"Starters\", menu))\n",
    "orderList.extend(getOrders(\"Mains\",menu))\n",
    "orderList.extend(getOrders(\"Deserts\", menu))\n",
    "orderList.extend(getOrders(\"Drinks\", menu))\n",
    "\n",
    "#print out order and total\n",
    "totalPrice = 0.00\n",
    "\n",
    "print (\"\\nThank you!\\n\\nYour order is: \\n\")\n",
    "\n",
    " # for each item print out the item\n",
    "for item in orderList:\n",
    "       print(item[\"Name\"] + \"\\t\" + item[\"Price\"])\n",
    "       totalPrice += float(item[\"Price\"])\n",
    "\n",
    "print (\"\\nTotal\\t\\t%.2f\" % totalPrice + '\\n)\n",
    "\n",
    "# done\n",
    "\n",
    "\n"
   ]
  },
  {
   "cell_type": "code",
   "execution_count": null,
   "metadata": {},
   "outputs": [],
   "source": []
  },
  {
   "cell_type": "code",
   "execution_count": null,
   "metadata": {
    "tags": []
   },
   "outputs": [],
   "source": [
    "#task 2\n",
    "\n",
    "def calcMbDepreciation(mbPrice):\n",
    "    return  mbPrice * .9\n",
    "  \n",
    "year = 2021\n",
    "mbPrice = 2000.0\n",
    "\n",
    "while mbPrice > 1000.0:\n",
    "    print (\"Year: \" + str(year) + \" Price: \" + \"%.2f\" % mbPrice)\n",
    "    mbPrice = calcMbDepreciation(mbPrice)\n",
    "    year += 1"
   ]
  },
  {
   "cell_type": "code",
   "execution_count": 52,
   "metadata": {},
   "outputs": [
    {
     "output_type": "stream",
     "name": "stdout",
     "text": [
      "-17.0\n"
     ]
    }
   ],
   "source": [
    "#task 3\n",
    "def add(x,y):\n",
    "    print (x + y)\n",
    "\n",
    "def sub(x,y):\n",
    "    print (x - y)\n",
    "\n",
    "def div(x,y):\n",
    "    print (x / y)\n",
    "\n",
    "def mul(x,y):\n",
    "    print (x * y)\n",
    "\n",
    "def pow(x,y):\n",
    "    print (x ** y)\n",
    "\n",
    "\n",
    "\n",
    "x = float(input(\"enter a number\"))\n",
    "y = float(input(\"enter another one..\"))\n",
    "\n",
    "choice = int(input(\"Choose your operation:\\n1: Add\\n2: Subtract\\n3: Multiply\\n4: Divide\\n5:Power\\n\"))\n",
    "\n",
    "#choice = int(input())\n",
    "\n",
    "if choice == 1:\n",
    "    add (x, y)\n",
    "elif choice == 2:\n",
    "    sub (x,y)\n",
    "elif choice == 3:\n",
    "    mul (x,y)\n",
    "elif choice == 4:\n",
    "    div (x,y)\n",
    "elif choice == 5:\n",
    "    pow (x, y)\n",
    "else:\n",
    "    print (\"Invalid choice \" + choice)"
   ]
  },
  {
   "cell_type": "code",
   "execution_count": null,
   "metadata": {},
   "outputs": [],
   "source": []
  }
 ]
}