{
 "metadata": {
  "language_info": {
   "codemirror_mode": {
    "name": "ipython",
    "version": 3
   },
   "file_extension": ".py",
   "mimetype": "text/x-python",
   "name": "python",
   "nbconvert_exporter": "python",
   "pygments_lexer": "ipython3",
   "version": "3.8.5"
  },
  "orig_nbformat": 2,
  "kernelspec": {
   "name": "python385jvsc74a57bd07738e4eeb1cb62b1be0c807fe3947e4907fccc4e62a254d7f50cd05df81a3e2b",
   "display_name": "Python 3.8.5 32-bit"
  },
  "metadata": {
   "interpreter": {
    "hash": "7738e4eeb1cb62b1be0c807fe3947e4907fccc4e62a254d7f50cd05df81a3e2b"
   }
  }
 },
 "nbformat": 4,
 "nbformat_minor": 2,
 "cells": [
  {
   "cell_type": "code",
   "execution_count": null,
   "metadata": {},
   "outputs": [],
   "source": [
    "#task 1 - enter 4 numbers\n",
    "\n",
    "# get numbers - not no validation \n",
    "num1 = input(\"Enter a number\") \n",
    "num2 = input(\"And another\")\n",
    "num3 = input(\"And another\")\n",
    "num4 = input(\"And your final number\")\n",
    "\n",
    "\n",
    "# write them\n",
    "with open(\"Numbers.txt\",\"w\") as numFile:\n",
    "    numFile.write( (num1 + \"\\n\" + num2 + \"\\n\" + num3 + '\\n'+ num4))\n",
    "numFile.close()\n",
    "\n",
    "# read them back and display\n",
    "with open(\"Numbers.txt\",\"r\") as f:\n",
    "    data = f.read()\n",
    "f.close()\n",
    "\n",
    "print(numFile.name + \" contains:\\n\" + data)\n",
    "\n",
    "extraNumber = input(\"Enter another\")\n",
    "\n",
    "# append another number\n",
    "with open(\"Numbers.txt\",\"a\") as f:\n",
    "    data = f.write(extraNumber)\n",
    "f.close()\n",
    "\n",
    "with open(\"Numbers.txt\",\"r\") as f:\n",
    "    data = f.read()\n",
    "f.close()\n",
    "\n",
    "print(numFile.name + \" contains:\\n\" + data)\n",
    "\n",
    "\n",
    "\n",
    "\n",
    "\n",
    "\n",
    "\n"
   ]
  },
  {
   "cell_type": "code",
   "execution_count": null,
   "metadata": {},
   "outputs": [],
   "source": [
    "#task 2 + extension - get studnt to enter percentage mark and convert to grade\n",
    "\n",
    "def mark_grade(percentage):\n",
    "\n",
    "    if percentage > 80: return 'A'\n",
    "    elif percentage > 70: return 'B'\n",
    "    elif percentage > 60: return 'C'\n",
    "    elif percentage > 50: return 'D'\n",
    "    elif percentage > 40: return 'E'\n",
    "    else: return 'U'\n",
    "\n",
    "studentPercentage = int(input(\"What is your percentage?\"))\n",
    "studentTarget = input(\"What was your target?\")\n",
    "studentGrade = mark_grade(studentPercentage)\n",
    "\n",
    "if (studentGrade > studentTarget.upper()): print (\"try harder, your grade is \" + studentGrade)\n",
    "elif (studentGrade == studentTarget.upper()): print (\"well done you're on target grade is \" + studentGrade)\n",
    "else : print (\"excellent you're above target, your grade is \" + studentGrade)\n",
    "\n",
    "\n",
    "\n"
   ]
  },
  {
   "cell_type": "code",
   "execution_count": null,
   "metadata": {},
   "outputs": [],
   "source": [
    "# Numpy task 1\n",
    "# 1d array of numbers\n",
    "import numpy as np\n",
    "\n",
    "numArray = np.arange(10)\n",
    "\n",
    "print(numArray)\n"
   ]
  },
  {
   "cell_type": "code",
   "execution_count": null,
   "metadata": {},
   "outputs": [],
   "source": [
    "# Numpy task 2\n",
    "# 3 by 3 array of bool true\n",
    "import numpy as np\n",
    "numArray = np.full((3,3), True)\n",
    "\n",
    "print(numArray)"
   ]
  },
  {
   "cell_type": "code",
   "execution_count": 54,
   "metadata": {},
   "outputs": [
    {
     "output_type": "stream",
     "name": "stdout",
     "text": [
      "[1 3 5 7 9]\n"
     ]
    }
   ],
   "source": [
    "# Numpy task 3\n",
    "# extract odd numbers from array 1 -10\n",
    "import numpy as np\n",
    "numArray = np.arange(1,11)\n",
    "numArray = numArray[numArray % 2 == 1]\n",
    "\n",
    "print(numArray)"
   ]
  },
  {
   "cell_type": "code",
   "execution_count": 56,
   "metadata": {},
   "outputs": [
    {
     "output_type": "stream",
     "name": "stdout",
     "text": [
      "[-1  2 -1  4 -1  6 -1  8 -1 10]\n"
     ]
    }
   ],
   "source": [
    "# Numpy task 4\n",
    "# replace all odd numbers from array 1 -10 with -1\n",
    "import numpy as np\n",
    "numArray = np.arange(1,11)\n",
    "numArray = np.where(numArray % 2 ==1, -1, numArray)\n",
    "\n",
    "print(numArray)"
   ]
  },
  {
   "cell_type": "code",
   "execution_count": 63,
   "metadata": {},
   "outputs": [
    {
     "output_type": "stream",
     "name": "stdout",
     "text": [
      "\n1D:\n [ 0  1  2  3  4  5  6  7  8  9 10 11 12 13]\n\n2D:\n [[ 0  1]\n [ 2  3]\n [ 4  5]\n [ 6  7]\n [ 8  9]\n [10 11]\n [12 13]]\n"
     ]
    }
   ],
   "source": [
    "# Numpy task 5\n",
    "# 1d to 2 d array\n",
    "import numpy as np\n",
    "numArray = np.arange(14)\n",
    "print(\"\\n1D:\\n\",numArray)\n",
    "\n",
    "num2D = numArray.reshape(7,2)\n",
    "\n",
    "print(\"\\n2D:\\n\", num2D)"
   ]
  },
  {
   "cell_type": "code",
   "execution_count": 92,
   "metadata": {},
   "outputs": [
    {
     "output_type": "stream",
     "name": "stdout",
     "text": [
      "A:\n [0 1 2 3 4 5]\nB:\n [0 1 2 3 4 5]\nStacked arrays\n [[0 1 2 3 4 5]\n [0 1 2 3 4 5]]\nProduct:\n 55\nSum\n 30\n"
     ]
    }
   ],
   "source": [
    "# Numpy task 6\n",
    "\n",
    "import numpy as np\n",
    "# create arrays a and b\n",
    "\n",
    "arrayA = np.arange(6)\n",
    "arrayB = np.arange(6)\n",
    "\n",
    "# stack vertically\n",
    "arrayC = np.vstack((arrayA, arrayB))\n",
    "print (\"A:\\n\",arrayA)\n",
    "print (\"B:\\n\",arrayB)\n",
    "print(\"Stacked arrays\\n\", arrayC)\n",
    "\n",
    "# mult\n",
    "dotProd = np.dot(arrayA, arrayB)\n",
    "print(\"Product:\\n\", dotProd)\n",
    "\n",
    "\n",
    "# sum\n",
    "sumArray = np.sum(arrayC)\n",
    "print(\"Sum\\n\", sumArray)\n",
    "\n"
   ]
  },
  {
   "cell_type": "code",
   "execution_count": 107,
   "metadata": {},
   "outputs": [
    {
     "output_type": "stream",
     "name": "stdout",
     "text": [
      "[1 2 3 1 2 3 1 2 3]\n[1 1 1 2 2 2 3 3 3 1 2 3 1 2 3 1 2 3]\n"
     ]
    }
   ],
   "source": [
    "#extension 1 \n",
    "#create array 111,222,333,1,2,3,1,2,3,1,2,3\n",
    "\n",
    "# this seems long winded - is there a better way?\n",
    "ar1 = np.arange(1,4)\n",
    "ar2 = np.hstack((ar1,ar1,ar1))\n",
    "ar3 = np.vstack((ar1,ar1,ar1))\n",
    "ar4 = np.reshape(ar3, 9, 'F')\n",
    "\n",
    "ar5 = np.concatenate((ar4,ar2))\n",
    "\n",
    "print(ar5)"
   ]
  },
  {
   "cell_type": "code",
   "execution_count": 33,
   "metadata": {},
   "outputs": [
    {
     "output_type": "stream",
     "name": "stdout",
     "text": [
      "[6 7 8 9]\n"
     ]
    }
   ],
   "source": [
    "#extension 2\n",
    "#setup arrays 1-5 and 4-9\n",
    "import numpy as np\n",
    "arA = np.arange(1,6)\n",
    "arB = np.arange(4,10)\n",
    "tempList = []\n",
    "\n",
    "''' remove repeating items present in array b '''\n",
    "\n",
    "arB = np.setdiff1d(arB,arA)\n",
    "\n",
    "''' first attempt - then found setdiff1d\n",
    "for i in arB:\n",
    "    if i not in arA:\n",
    "        tempList.append(i)\n",
    "\n",
    "arB = np.array(tempList)\n",
    "'''\n",
    "\n",
    "print(arB)\n",
    "\n",
    "\n"
   ]
  },
  {
   "cell_type": "code",
   "execution_count": 67,
   "metadata": {},
   "outputs": [
    {
     "output_type": "stream",
     "name": "stdout",
     "text": [
      "Values between 3 and 7:\n [3 4 5 4 5 6 7] \n\nSum is:\n 34\n"
     ]
    }
   ],
   "source": [
    "#task 7\n",
    "# #get all items between 3 and 7 from a and b and sum the together\n",
    "import numpy as np\n",
    "arA = np.arange(1,6)\n",
    "arB = np.arange(4,10)\n",
    "arC = np.concatenate((arA,arB))\n",
    "indices = np.where(np.logical_and(arC >= 3,arC <= 7))\n",
    "\n",
    "print(\"Values between 3 and 7:\\n\",arC[indices],\"\\n\")\n",
    "print(\"Sum is:\\n\",np.sum(arC[indices]))\n",
    "\n",
    "\n",
    "\n",
    "\n"
   ]
  },
  {
   "cell_type": "code",
   "execution_count": null,
   "metadata": {},
   "outputs": [],
   "source": []
  }
 ]
}